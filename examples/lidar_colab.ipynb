{
 "cells": [
  {
   "cell_type": "markdown",
   "metadata": {
    "colab_type": "text",
    "id": "AMhnFYl5J4hK"
   },
   "source": [
    "<a href=\"https://colab.research.google.com/github/giswqs/lidar/blob/master/examples/lidar_colab.ipynb\" target=\"_parent\"><img src=\"https://colab.research.google.com/assets/colab-badge.svg\" alt=\"Run In Colab\"/></a>"
   ]
  },
  {
   "cell_type": "code",
   "execution_count": 1,
   "metadata": {
    "colab": {
     "base_uri": "https://localhost:8080/",
     "height": 561
    },
    "colab_type": "code",
    "executionInfo": {
     "elapsed": 8031,
     "status": "ok",
     "timestamp": 1580231550377,
     "user": {
      "displayName": "Qiusheng Wu",
      "photoUrl": "https://lh3.googleusercontent.com/a-/AAuE7mAJ1pblBoPT5aypeg-B7BjE8_M5yncXVTVrFLRGbb0=s64",
      "userId": "16735277279940296378"
     },
     "user_tz": 300
    },
    "id": "JDX8t-xpI1st",
    "outputId": "c3af31a4-86fd-4850-b84a-cd0f3d11ac08"
   },
   "outputs": [],
   "source": [
    "import subprocess\n",
    "\n",
    "try:\n",
    "    import lidar\n",
    "except ImportError:\n",
    "    print(\"Installing lidar ...\")\n",
    "    subprocess.check_call([\"python\", \"-m\", \"pip\", \"install\", \"lidar\"])"
   ]
  },
  {
   "cell_type": "code",
   "execution_count": 2,
   "metadata": {
    "colab": {
     "base_uri": "https://localhost:8080/",
     "height": 561
    },
    "colab_type": "code",
    "executionInfo": {
     "elapsed": 1651,
     "status": "ok",
     "timestamp": 1580231609943,
     "user": {
      "displayName": "Qiusheng Wu",
      "photoUrl": "https://lh3.googleusercontent.com/a-/AAuE7mAJ1pblBoPT5aypeg-B7BjE8_M5yncXVTVrFLRGbb0=s64",
      "userId": "16735277279940296378"
     },
     "user_tz": 300
    },
    "id": "_m14VPJmI7rl",
    "outputId": "ba501f19-c289-47aa-9f5c-30c7af04d112"
   },
   "outputs": [
    {
     "name": "stdout",
     "output_type": "stream",
     "text": [
      "Median filtering ...\n",
      "Run time: 0.0599 seconds\n",
      "Saving dem ...\n",
      "Loading data ...\n",
      "min = 379.70, max = 410.72, no_data = -3.402823e+38, cell_size = 1.0\n",
      "Depression filling ...\n",
      "Saving filled dem ...\n",
      "Region grouping ...\n",
      "Computing properties ...\n",
      "Saving sink dem ...\n",
      "Saving refined dem ...\n",
      "Converting raster to vector ...\n",
      "Total run time:\t\t\t 0.0972 s\n",
      "\n",
      "Reading data ...\n",
      "rows, cols: (400, 400)\n",
      "Pixel resolution: 1.0\n",
      "Read data time: 0.0029 seconds\n",
      "Data preparation time: 0.0092 seconds\n",
      "Total number of regions: 1\n",
      "Processing Region # 1 ...\n",
      "=========== Run time statistics =========== \n",
      "(rows, cols):\t\t\t (400, 400)\n",
      "Pixel resolution:\t\t 1.0 m\n",
      "Number of regions:\t\t 1\n",
      "Data preparation time:\t\t 0.0092 s\n",
      "Identify level time:\t\t 0.2358 s\n",
      "Write image time:\t\t 0.0026 s\n",
      "Polygonize time:\t\t 0.0098 s\n",
      "Extract level time:\t\t 0.0570 s\n",
      "Total run time:\t\t\t 0.3150 s\n",
      "Results are saved in: /home/qiusheng/temp\n"
     ]
    }
   ],
   "source": [
    "import os\n",
    "import pkg_resources\n",
    "from lidar import *\n",
    "\n",
    "# identify the sample data directory of the package\n",
    "package_name = \"lidar\"\n",
    "data_dir = pkg_resources.resource_filename(package_name, \"data/\")\n",
    "\n",
    "# use the sample dem. Change it to your own dem if needed\n",
    "in_dem = os.path.join(data_dir, \"dem.tif\")\n",
    "# set the output directory\n",
    "out_dir = os.getcwd()\n",
    "\n",
    "# parameters for identifying sinks and delineating nested depressions\n",
    "min_size = 1000  # minimum number of pixels as a depression\n",
    "min_depth = 0.5  # minimum depth as a depression\n",
    "interval = 0.3  # slicing interval for the level-set method\n",
    "bool_shp = True  # output shapefiles for each individual level\n",
    "\n",
    "# extracting sinks based on user-defined minimum depression size\n",
    "out_dem = os.path.join(out_dir, \"median.tif\")\n",
    "in_dem = MedianFilter(in_dem, kernel_size=3, out_file=out_dem)\n",
    "sink_path = ExtractSinks(in_dem, min_size, out_dir)\n",
    "dep_id_path, dep_level_path = DelineateDepressions(\n",
    "    sink_path, min_size, min_depth, interval, out_dir, bool_shp\n",
    ")\n",
    "print(\"Results are saved in: {}\".format(out_dir))"
   ]
  }
 ],
 "metadata": {
  "colab": {
   "authorship_tag": "ABX9TyMlOtzA1LPi7dD2X1wsx0jk",
   "name": "lidar_colab.ipynb",
   "provenance": []
  },
  "kernelspec": {
   "display_name": "Python 3",
   "language": "python",
   "name": "python3"
  },
  "language_info": {
   "codemirror_mode": {
    "name": "ipython",
    "version": 3
   },
   "file_extension": ".py",
   "mimetype": "text/x-python",
   "name": "python",
   "nbconvert_exporter": "python",
   "pygments_lexer": "ipython3",
   "version": "3.8.5"
  }
 },
 "nbformat": 4,
 "nbformat_minor": 1
}