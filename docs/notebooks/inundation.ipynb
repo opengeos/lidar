{
 "cells": [
  {
   "cell_type": "markdown",
   "metadata": {},
   "source": [
    "# Inundation Dynamics Simulation "
   ]
  },
  {
   "cell_type": "markdown",
   "metadata": {},
   "source": [
    "## Create an ArcGIS Pro project\n",
    "\n",
    "Open ArcGIS Pro and create a new project titled `inundation`.\n",
    "\n",
    "## Clone the arcgispro-py3 env\n",
    "\n",
    "Clone the `arcgispro-py` env to create a new env named `arcgispro-py3-clone`.\n",
    "\n",
    "![image](https://github.com/user-attachments/assets/52836e4a-7246-48d2-8081-27ec6f21395f)\n",
    "\n",
    "## Install scikit-image \n",
    "\n",
    "Activate the `arcgispro-py3-clone` env and install the `scikit-image` package into the env.\n",
    "\n",
    "![image](https://github.com/user-attachments/assets/320c21a1-7ad1-4df7-87c4-800945a1edc1)\n",
    "\n",
    "## Import libraries"
   ]
  },
  {
   "cell_type": "code",
   "execution_count": null,
   "metadata": {},
   "outputs": [],
   "source": [
    "import os\n",
    "import arcpy"
   ]
  },
  {
   "cell_type": "markdown",
   "metadata": {},
   "source": [
    "## Set workspace\n",
    "\n",
    "Set to working space to the project folder instead of a GeoDatabase."
   ]
  },
  {
   "cell_type": "code",
   "execution_count": null,
   "metadata": {},
   "outputs": [],
   "source": [
    "arcpy.env.workspace = os.path.dirname(arcpy.env.workspace)\n",
    "print(arcpy.env.workspace)"
   ]
  },
  {
   "cell_type": "markdown",
   "metadata": {},
   "source": [
    "## Download the lidar toolbox\n",
    "\n",
    "Click this [link](https://github.com/opengeos/lidar/archive/refs/heads/master.zip) and download it to the inundation project folder. Unzip the downloaded file and rename the folder from `lidar-master` to `lidar.`\n",
    "\n",
    "You will find the ArcGIS toolbox under `inundation\\lidar\\lidar\\toolbox\\ArcGIS Pro Hydrology Analyst.tbx`\n",
    "\n",
    "## Import the lidar toolbox"
   ]
  },
  {
   "cell_type": "code",
   "execution_count": null,
   "metadata": {},
   "outputs": [],
   "source": [
    "# Path to the custom toolbox\n",
    "toolbox_path = r\"lidar\\lidar\\toolbox\\ArcGIS Pro Hydrology Analyst.tbx\"  # Change to your toolbox path\n",
    "\n",
    "# Import the toolbox\n",
    "arcpy.ImportToolbox(toolbox_path, \"HydroTools\")"
   ]
  },
  {
   "cell_type": "markdown",
   "metadata": {},
   "source": [
    "## Set input data and output folder"
   ]
  },
  {
   "cell_type": "code",
   "execution_count": null,
   "metadata": {},
   "outputs": [],
   "source": [
    "input_dem = os.path.join(arcpy.env.workspace, r\"lidar\\examples\\lidar-dem\\dem_full.tif\")\n",
    "out_dir = os.path.join(os.path.expanduser(\"~\\Downloads\"), \"output\")"
   ]
  },
  {
   "cell_type": "code",
   "execution_count": null,
   "metadata": {},
   "outputs": [],
   "source": [
    "if not os.path.exists(out_dir):\n",
    "    os.makedirs(out_dir)"
   ]
  },
  {
   "cell_type": "code",
   "execution_count": null,
   "metadata": {},
   "outputs": [],
   "source": [
    "print(input_dem)"
   ]
  },
  {
   "cell_type": "code",
   "execution_count": null,
   "metadata": {},
   "outputs": [],
   "source": [
    "print(out_dir)"
   ]
  },
  {
   "cell_type": "code",
   "execution_count": null,
   "metadata": {},
   "outputs": [],
   "source": [
    "arcpy.env.workspace = out_dir"
   ]
  },
  {
   "cell_type": "markdown",
   "metadata": {},
   "source": [
    "## Extract sinks"
   ]
  },
  {
   "cell_type": "code",
   "execution_count": null,
   "metadata": {},
   "outputs": [],
   "source": [
    "arcpy.HydroTools.ExtrackSink(\n",
    "    Input_DEM=input_dem,\n",
    "    Minimum_Sink_Size=1000,\n",
    "    Minimum_Sink_Depth__from_water_surface_to_spill_point_=1,\n",
    "    Buffer_Distance=0,\n",
    "    Output_Sink_Polygon=\"sink.shp\",\n",
    ")"
   ]
  },
  {
   "cell_type": "markdown",
   "metadata": {},
   "source": [
    "## Delineate catchments"
   ]
  },
  {
   "cell_type": "code",
   "execution_count": null,
   "metadata": {},
   "outputs": [],
   "source": [
    "arcpy.HydroTools.DelineateCatchment(\n",
    "    Input_Partially_Filled_DEM=\"dem_partially_filled.tif\",\n",
    "    Input_Sink_Polygon=\"sink.shp\",\n",
    "    Output_Catchment_Polygon=\"catchment.shp\",\n",
    ")"
   ]
  },
  {
   "cell_type": "markdown",
   "metadata": {},
   "source": [
    "## Delineate flowpaths"
   ]
  },
  {
   "cell_type": "code",
   "execution_count": null,
   "metadata": {},
   "outputs": [],
   "source": [
    "arcpy.HydroTools.DelineateFlowPath(\n",
    "    Input_Fully_Filled_DEM=\"dem_fully_filled.tif\",\n",
    "    Input_Sink_Polygon=\"sink.shp\",\n",
    "    Rainfall_Intensity__cm_h_=\"5\",\n",
    "    Output_Flow_Path=\"flowpath.shp\",\n",
    ")"
   ]
  },
  {
   "cell_type": "markdown",
   "metadata": {},
   "source": [
    "## Delineate depression hierarchy"
   ]
  },
  {
   "cell_type": "code",
   "execution_count": null,
   "metadata": {},
   "outputs": [],
   "source": [
    "arcpy.HydroTools.DelineateDepressionHierarchy(\n",
    "    Input_DEM_Sink=\"sink.tif\",\n",
    "    Minimum_Depression_Size=\"1000\",\n",
    "    Minimum_Depression_Depth=\"0.5\",\n",
    "    Slicing_Interval=\"0.2\",\n",
    "    Output_Depression_Level_Image=\"level.tif\",\n",
    ")"
   ]
  },
  {
   "cell_type": "markdown",
   "metadata": {},
   "source": [
    "## Delinate catchment hierarchy"
   ]
  },
  {
   "cell_type": "code",
   "execution_count": null,
   "metadata": {},
   "outputs": [],
   "source": [
    "arcpy.HydroTools.CatchmentHierarchy(\n",
    "    Input_Partially_Filled_DEM=\"dem_partially_filled.tif\",\n",
    "    Input_Depression_Hierarchy_Shapefiles=\"shp\",\n",
    "    Output_Catchment_Hierarchy=\"catchment_hir.tif\",\n",
    ")"
   ]
  },
  {
   "cell_type": "markdown",
   "metadata": {},
   "source": [
    "## Simulate inundation"
   ]
  },
  {
   "cell_type": "code",
   "execution_count": null,
   "metadata": {},
   "outputs": [],
   "source": [
    "os.makedirs(os.path.join(arcpy.env.workspace, \"simulation\"), exist_ok=True)"
   ]
  },
  {
   "cell_type": "code",
   "execution_count": null,
   "metadata": {},
   "outputs": [],
   "source": [
    "arcpy.HydroTools.SimulateInundation(\n",
    "    Input_Sink_Image=\"sink.tif\",\n",
    "    Input_Catchment_Hierarchy_Image=\"catchment_hir.tif\",\n",
    "    Minimum_Depression_Size=\"1000\",\n",
    "    Minimum_Depression_Depth=\"0.2\",\n",
    "    Slicing_Interval=\"0.2\",\n",
    "    Rainfall_Intensity__cm_h_=\"5\",\n",
    "    Rainfall_Duration__h_=\"50\",\n",
    "    Simulation_Time_Step__h_=\"1\",\n",
    "    Output_Inundation_Image_Folder=\"simulation\",\n",
    ")"
   ]
  },
  {
   "cell_type": "markdown",
   "metadata": {},
   "source": [
    "## Play the animation"
   ]
  },
  {
   "cell_type": "code",
   "execution_count": null,
   "metadata": {},
   "outputs": [],
   "source": [
    "arcpy.HydroTools.PlayAnimation(\n",
    "    Input_DEM=\"dem_partially_filled.tif\",\n",
    "    Loops=\"3\",\n",
    "    Input_Inundation_Image_Folder=\"simulation\",\n",
    ")"
   ]
  }
 ],
 "metadata": {
  "kernelspec": {
   "display_name": "ArcGISPro",
   "language": "python",
   "name": "python3"
  },
  "language_info": {
   "file_extension": ".py",
   "mimetype": "text/x-python",
   "name": "python",
   "version": "3.11.10"
  }
 },
 "nbformat": 4,
 "nbformat_minor": 4
}
